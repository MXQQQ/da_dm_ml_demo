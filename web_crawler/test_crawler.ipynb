{
 "cells": [
  {
   "cell_type": "code",
   "execution_count": 1,
   "metadata": {
    "collapsed": true
   },
   "outputs": [
    {
     "output_type": "stream",
     "name": "stdout",
     "text": [
      "<re.Match object; span=(0, 3), match='www'>\n(0, 3)\nNone\n"
     ]
    }
   ],
   "source": [
    "import re\n",
    "# 在字符串起始位置匹配\n",
    "print(re.match(\"www\", \"www.runoob.com\"))\n",
    "print(re.match(\"www\", \"www.runoob.com\").span())\n",
    "print(re.match(\"com\", \"www.runoob.com\"))"
   ]
  },
  {
   "cell_type": "code",
   "execution_count": 2,
   "metadata": {},
   "outputs": [
    {
     "output_type": "stream",
     "name": "stdout",
     "text": [
      "<re.Match object; span=(0, 3), match='www'>\n(0, 3)\n<re.Match object; span=(11, 14), match='com'>\n(11, 14)\n"
     ]
    }
   ],
   "source": [
    "# 匹配整个字符串\n",
    "print(re.search(\"www\", \"www.runoob.com\"))\n",
    "print(re.search(\"www\", \"www.runoob.com\").span())\n",
    "print(re.search(\"com\", \"www.runoob.com\"))\n",
    "print(re.search(\"com\", \"www.runoob.com\").span())"
   ]
  },
  {
   "cell_type": "code",
   "execution_count": 3,
   "metadata": {},
   "outputs": [
    {
     "output_type": "stream",
     "name": "stdout",
     "text": [
      "['123', '456'] ['88', '12']\n"
     ]
    }
   ],
   "source": [
    "pattern = re.compile(r'\\d+')\n",
    "result1 = pattern.findall('runoob 123.^\\ google 456')\n",
    "result2 = pattern.findall('run88oob123google456', 0, 10)\n",
    "print(result1, result2)"
   ]
  },
  {
   "cell_type": "code",
   "execution_count": 11,
   "metadata": {},
   "outputs": [
    {
     "output_type": "stream",
     "name": "stdout",
     "text": [
      "2004-959-559 这是一个国外电话号码\n2004959559\n"
     ]
    }
   ],
   "source": [
    "phone = \"2004-959-559 # 这是一个国外电话号码\"\n",
    "\n",
    "num = re.sub(r'#.*', '', phone)\n",
    "print(num)\n",
    "num = re.sub(r'\\D', \"\",phone)\n",
    "print(num)"
   ]
  },
  {
   "cell_type": "code",
   "execution_count": 17,
   "metadata": {},
   "outputs": [
    {
     "output_type": "stream",
     "name": "stdout",
     "text": [
      "None\n(4, 7)\n['655', '4', '5', '5', '6555']\n"
     ]
    }
   ],
   "source": [
    "pattern = re.compile(r'\\d+')\n",
    "m = pattern.match(\"osdv655sdd4v5d5dfssd6555\")\n",
    "print(m)\n",
    "m = pattern.search(\"osdv655sdd4v5d5dfssd6555\").span()\n",
    "print(m)\n",
    "m = pattern.findall(\"osdv655sdd4v5d5dfssd6555\")\n",
    "print(m)"
   ]
  },
  {
   "cell_type": "code",
   "execution_count": 19,
   "metadata": {},
   "outputs": [
    {
     "output_type": "stream",
     "name": "stdout",
     "text": [
      "<html><body><div class=\"divclass\">\n    <ul class=\"urlclass\">\n         <li class=\"class_0\"><a href=\"herf_1\">herf1</a></li>\n         <li class=\"class_1\"><a href=\"herf_2\">herf2</a>\n         </li><li class=\"class_plus\"><a href=\"herf_3\">herf3</a></li>\n         <li class=\"class_0\"><a href=\"herf_4\">herf4</a></li>\n         <li class=\"class_1\"><a href=\"herf_5\">herf5</a></li>\n     </ul>\n </div>\n</body></html>\n"
     ]
    }
   ],
   "source": [
    "from lxml import etree\n",
    "text = '''\n",
    "<div class=\"divclass\">\n",
    "    <ul class=\"urlclass\">\n",
    "         <li class=\"class_0\"><a href=\"herf_1\">herf1</a></li>\n",
    "         <li class=\"class_1\"><a href=\"herf_2\">herf2</a>\n",
    "         <li class=\"class_plus\"><a href=\"herf_3\">herf3</a></li>\n",
    "         <li class=\"class_0\"><a href=\"herf_4\">herf4</a></li>\n",
    "         <li class=\"class_1\"><a href=\"herf_5\">herf5</a></li>\n",
    "     </ul>\n",
    " </div>\n",
    "'''\n",
    "html = etree.HTML(text)\n",
    "result = etree.tostring(html)\n",
    "print(result.decode('UTF_8'))\n"
   ]
  },
  {
   "cell_type": "code",
   "execution_count": 31,
   "metadata": {},
   "outputs": [
    {
     "output_type": "stream",
     "name": "stdout",
     "text": [
      "[<Element ul at 0x2001abf5e80>]\n"
     ]
    }
   ],
   "source": [
    "result = html.xpath(\"//ul\")\n",
    "print(result)"
   ]
  },
  {
   "cell_type": "code",
   "execution_count": 32,
   "metadata": {},
   "outputs": [
    {
     "output_type": "stream",
     "name": "stdout",
     "text": [
      "[<Element html at 0x2001aa73d00>, <Element body at 0x2001ac2dcc0>, <Element div at 0x2001ac2d340>, <Element ul at 0x2001abf5e80>, <Element li at 0x2001ac2de80>, <Element a at 0x2001ac2d640>, <Element li at 0x2001ac2d900>, <Element a at 0x2001ac43040>, <Element li at 0x2001ac432c0>, <Element a at 0x2001ac2d600>, <Element li at 0x2001ac455c0>, <Element a at 0x2001ac45b00>, <Element li at 0x2001ac45580>, <Element a at 0x2001ac45900>]\n"
     ]
    }
   ],
   "source": [
    "result = html.xpath(\"//*\")\n",
    "print(result)"
   ]
  },
  {
   "cell_type": "code",
   "execution_count": 37,
   "metadata": {},
   "outputs": [
    {
     "output_type": "stream",
     "name": "stdout",
     "text": [
      "[<Element div at 0x2001ac2d340>]\n"
     ]
    }
   ],
   "source": [
    "result = html.xpath(\"//ul/..\")\n",
    "print(result)"
   ]
  },
  {
   "cell_type": "code",
   "execution_count": 38,
   "metadata": {},
   "outputs": [
    {
     "output_type": "stream",
     "name": "stdout",
     "text": [
      "['divclass']\n"
     ]
    }
   ],
   "source": [
    "result = html.xpath(\"//ul/../@class\")\n",
    "print(result)"
   ]
  },
  {
   "cell_type": "code",
   "execution_count": 39,
   "metadata": {},
   "outputs": [
    {
     "output_type": "stream",
     "name": "stdout",
     "text": [
      "[<Element li at 0x2001abd4680>]\n"
     ]
    }
   ],
   "source": [
    "result = html.xpath('//a[@href=\"herf_2\"]/..')\n",
    "print(result)"
   ]
  },
  {
   "cell_type": "code",
   "execution_count": 40,
   "metadata": {},
   "outputs": [
    {
     "output_type": "stream",
     "name": "stdout",
     "text": [
      "['class_1']\n"
     ]
    }
   ],
   "source": [
    "result = html.xpath('//a[@href=\"herf_2\"]/../@class')\n",
    "print(result)"
   ]
  },
  {
   "cell_type": "code",
   "execution_count": 41,
   "metadata": {},
   "outputs": [
    {
     "output_type": "stream",
     "name": "stdout",
     "text": [
      "[<Element a at 0x2001a736880>]\n"
     ]
    }
   ],
   "source": [
    "result = html.xpath('//a[@href=\"herf_1\"]')\n",
    "print(result)"
   ]
  },
  {
   "cell_type": "code",
   "execution_count": 42,
   "metadata": {},
   "outputs": [
    {
     "output_type": "stream",
     "name": "stdout",
     "text": [
      "['herf1']\n"
     ]
    }
   ],
   "source": [
    "result = html.xpath('//a[@href=\"herf_1\"]/text()')\n",
    "print(result)"
   ]
  },
  {
   "cell_type": "code",
   "execution_count": 50,
   "metadata": {},
   "outputs": [
    {
     "output_type": "stream",
     "name": "stdout",
     "text": [
      "[\"安阳\", \"安庆\", \"鞍山\", \"安顺\", \"安康\", \"阿克苏\", \"阿拉善盟\", \"澳门\", \"阿勒泰\", \"阿坝藏族羌族自治州\", \"北京\", \"保定\", \"蚌埠\", \"包头\", \"宝鸡\", \"滨州\", \"亳州\", \"北海\", \"毕节\", \"百色\", \"巴中\", \"保山\", \"巴彦淖尔\", \"白银\", \"本溪\", \"白城\", \"巴音郭楞\", \"白山\", \"成都\", \"长沙\", \"重庆\", \"长春\", \"常州\", \"沧州\", \"郴州\", \"赤峰\", \"滁州\", \"常德\", \"潮州\", \"承德\", \"朝阳\", \"楚雄\", \"崇左\", \"池州\", \"昌吉\", \"昌都\", \"东莞\", \"大连\", \"德州\", \"德阳\", \"大同\", \"东营\", \"达州\", \"大庆\", \"丹东\", \"大理\", \"定西\", \"儋州\", \"德宏\", \"鄂尔多斯\", \"鄂州\", \"恩施\", \"佛山\", \"福州\", \"阜阳\", \"抚州\", \"防城港\", \"抚顺\", \"阜新\", \"广州\", \"贵阳\", \"赣州\", \"桂林\", \"广元\", \"贵港\", \"广安\", \"甘孜藏族自治州\", \"甘南\", \"固原\", \"杭州\", \"合肥\", \"惠州\", \"哈尔滨\", \"海口\", \"呼和浩特\", \"邯郸\", \"淮安\", \"菏泽\", \"湖州\", \"衡阳\", \"衡水\", \"河源\", \"黄冈\", \"海外\", \"黄石\", \"鹤壁\", \"怀化\", \"汉中\", \"淮南\", \"葫芦岛\", \"淮北\", \"贺州\", \"黄山\", \"呼伦贝尔\", \"红河\", \"海东\", \"河池\", \"鹤岗\", \"黑河\", \"海南州\", \"济南\", \"金华\", \"嘉兴\", \"江门\", \"济宁\", \"九江\", \"揭阳\", \"晋中\", \"荆州\", \"焦作\", \"锦州\", \"吉林\", \"吉安\", \"景德镇\", \"晋城\", \"佳木斯\", \"酒泉\", \"荆门\", \"金昌\", \"济源\", \"鸡西\", \"昆明\", \"开封\", \"喀什\", \"克拉玛依\", \"廊坊\", \"兰州\", \"临沂\", \"洛阳\", \"聊城\", \"柳州\", \"连云港\", \"六安\", \"泸州\", \"临汾\", \"漯河\", \"乐山\", \"龙岩\", \"六盘水\", \"辽阳\", \"丽水\", \"拉萨\", \"娄底\", \"吕梁\", \"丽江\", \"凉山彝族自治州\", \"辽源\", \"莱芜\", \"临沧\", \"陇南\", \"临夏\", \"来宾\", \"林芝\", \"绵阳\", \"眉山\", \"梅州\", \"马鞍山\", \"茂名\", \"牡丹江\", \"南京\", \"南昌\", \"宁波\", \"南宁\", \"南通\", \"南阳\", \"南充\", \"内江\", \"宁德\", \"南平\", \"莆田\", \"濮阳\", \"平顶山\", \"盘锦\", \"萍乡\", \"攀枝花\", \"普洱\", \"平凉\", \"青岛\", \"泉州\", \"清远\", \"秦皇岛\", \"衢州\", \"曲靖\", \"齐齐哈尔\", \"钦州\", \"黔西南\", \"庆阳\", \"黔东南\", \"黔南\", \"七台河\", \"日照\", \"日喀则\", \"深圳\", \"上海\", \"苏州\", \"沈阳\", \"石家庄\", \"绍兴\", \"宿迁\", \"汕头\", \"商丘\", \"三亚\", \"上饶\", \"宿州\", \"十堰\", \"遂宁\", \"韶关\", \"邵阳\", \"汕尾\", \"三明\", \"随州\", \"三门峡\", \"四平\", \"绥化\", \"松原\", \"朔州\", \"三沙\", \"石河子\", \"商洛\", \"双鸭山\", \"石嘴山\", \"山南\", \"天津\", \"太原\", \"唐山\", \"台州\", \"泰州\", \"泰安\", \"通辽\", \"铜陵\", \"铜仁\", \"天水\", \"铁岭\", \"铜川\", \"台湾\", \"天门\", \"通化\", \"塔城\", \"武汉\", \"无锡\", \"温州\", \"潍坊\", \"芜湖\", \"乌鲁木齐\", \"威海\", \"渭南\", \"梧州\", \"武威\", \"乌兰察布\", \"乌海\", \"吴忠\", \"文山\", \"西安\", \"厦门\", \"徐州\", \"咸阳\", \"新乡\", \"襄阳\", \"许昌\", \"西宁\", \"邢台\", \"信阳\", \"孝感\", \"湘潭\", \"咸宁\", \"新余\", \"宣城\", \"忻州\", \"西双版纳\", \"香港\", \"湘西土家族苗族自治州\", \"兴安盟\", \"锡林郭勒盟\", \"烟台\", \"银川\", \"扬州\", \"盐城\", \"宜昌\", \"运城\", \"宜宾\", \"岳阳\", \"营口\", \"阳江\", \"宜春\", \"益阳\", \"玉林\", \"玉溪\", \"永州\", \"榆林\", \"延安\", \"阳泉\", \"雅安\", \"鹰潭\", \"云浮\", \"伊犁\", \"延边\", \"伊春\", \"郑州\", \"珠海\", \"中山\", \"淄博\", \"镇江\", \"遵义\", \"株洲\", \"湛江\", \"肇庆\", \"漳州\", \"周口\", \"张家口\", \"长治\", \"驻马店\", \"枣庄\", \"昭通\", \"资阳\", \"自贡\", \"舟山\", \"张家界\", \"张掖\", \"中卫\"]\n"
     ]
    }
   ],
   "source": [
    "import requests\n",
    "import jsonpath\n",
    "import json\n",
    "\n",
    "url = 'http://www.lagou.com/lbs/getAllCitySearchLabels.json'\n",
    "headers = {\"User-Agent\": \"Mozilla/5.0 (Windows NT 10.0; Win64; x64) AppleWebKit/537.36 (KHTML, like Gecko) Chrome/87.0.4280.67 Safari/537.36 Edg/87.0.664.52\"}\n",
    "resp = requests.get(url, headers=headers)\n",
    "html_str = resp.content.decode()\n",
    "jsonobj = json.loads(html_str)\n",
    "citylist = jsonpath.jsonpath(jsonobj, '$..name')\n",
    "content = json.dumps(citylist, ensure_ascii=False)\n",
    "print(content)"
   ]
  },
  {
   "cell_type": "code",
   "execution_count": 52,
   "metadata": {},
   "outputs": [
    {
     "output_type": "stream",
     "name": "stdout",
     "text": [
      "[<li class=\"class_0\"><a href=\"herf_1\">herf1</a></li>, <li class=\"class_1\"><a href=\"herf_2\">herf2</a></li>, <li class=\"class_plus\"><a href=\"herf_3\">herf3</a></li>, <li class=\"class_0\"><a href=\"herf_4\">herf4</a></li>, <li class=\"class_1\"><a href=\"herf_5\">herf5</a></li>]\n"
     ]
    }
   ],
   "source": [
    "html ='''\n",
    "<div class=\"divclass\">\n",
    "    <ul class=\"urlclass\">\n",
    "         <li class=\"class_0\"><a href=\"herf_1\">herf1</a></li>\n",
    "         <li class=\"class_1\"><a href=\"herf_2\">herf2</a></li>\n",
    "         <li class=\"class_plus\"><a href=\"herf_3\">herf3</a></li>\n",
    "         <li class=\"class_0\"><a href=\"herf_4\">herf4</a></li>\n",
    "         <li class=\"class_1\"><a href=\"herf_5\">herf5</a></li>\n",
    "     </ul>\n",
    " </div>\n",
    "'''\n",
    "from bs4 import BeautifulSoup\n",
    "\n",
    "soup = BeautifulSoup(html, 'html.parser')\n",
    "lilist = soup.find(\"ul\", \"urlclass\").find_all(\"li\")\n",
    "print(lilist)"
   ]
  },
  {
   "cell_type": "code",
   "execution_count": null,
   "metadata": {},
   "outputs": [],
   "source": []
  }
 ],
 "metadata": {
  "kernelspec": {
   "display_name": "Python 3",
   "language": "python",
   "name": "python3"
  },
  "language_info": {
   "codemirror_mode": {
    "name": "ipython",
    "version": 2
   },
   "file_extension": ".py",
   "mimetype": "text/x-python",
   "name": "python",
   "nbconvert_exporter": "python",
   "pygments_lexer": "ipython2",
   "version": "3.8.6-final"
  }
 },
 "nbformat": 4,
 "nbformat_minor": 0
}